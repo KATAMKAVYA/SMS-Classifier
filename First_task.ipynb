{
  "nbformat": 4,
  "nbformat_minor": 0,
  "metadata": {
    "colab": {
      "provenance": [],
      "authorship_tag": "ABX9TyMiW3wYcojICwc+Vkga2Y4p",
      "include_colab_link": true
    },
    "kernelspec": {
      "name": "python3",
      "display_name": "Python 3"
    },
    "language_info": {
      "name": "python"
    }
  },
  "cells": [
    {
      "cell_type": "markdown",
      "metadata": {
        "id": "view-in-github",
        "colab_type": "text"
      },
      "source": [
        "<a href=\"https://colab.research.google.com/github/KATAMKAVYA/Text-classification/blob/main/First_task.ipynb\" target=\"_parent\"><img src=\"https://colab.research.google.com/assets/colab-badge.svg\" alt=\"Open In Colab\"/></a>"
      ]
    },
    {
      "cell_type": "code",
      "execution_count": null,
      "metadata": {
        "colab": {
          "base_uri": "https://localhost:8080/"
        },
        "id": "guYfc8PZQtrh",
        "outputId": "a8e15d83-a0a1-4443-9739-c8c6a27552c1"
      },
      "outputs": [
        {
          "output_type": "stream",
          "name": "stderr",
          "text": [
            "[nltk_data] Downloading package stopwords to /root/nltk_data...\n",
            "[nltk_data]   Package stopwords is already up-to-date!\n"
          ]
        },
        {
          "output_type": "stream",
          "name": "stdout",
          "text": [
            "Accuracy: 0.9704035874439462\n",
            "Precision: 1.0\n",
            "Recall: 0.7785234899328859\n",
            "F1 Score: 0.8754716981132076\n",
            "Predictions for Spam Messages:\n",
            "Message: congratulations youve 1000 walmart gift card go httpbitly123456 claim - Label: spam\n",
            "Message: urgent selected receive prize reply claim message claim reward - Label: spam\n",
            "\n",
            "Predictions for Ham Messages:\n",
            "Message: hi lets meet lunch tomorrow - Label: ham\n",
            "Message: hey ive attached document requested please review get chance - Label: ham\n",
            "Message: reminder meeting scheduled 200 pm today see - Label: ham\n"
          ]
        }
      ],
      "source": [
        "import pandas as pd\n",
        "import requests\n",
        "import zipfile\n",
        "import io\n",
        "import string\n",
        "import nltk\n",
        "from nltk.corpus import stopwords\n",
        "from sklearn.feature_extraction.text import TfidfVectorizer\n",
        "from sklearn.model_selection import train_test_split\n",
        "from sklearn.naive_bayes import MultinomialNB\n",
        "from sklearn.metrics import accuracy_score, precision_score, recall_score, f1_score\n",
        "\n",
        "url = 'https://archive.ics.uci.edu/ml/machine-learning-databases/00228/smsspamcollection.zip'\n",
        "response = requests.get(url)\n",
        "zip_file = zipfile.ZipFile(io.BytesIO(response.content))\n",
        "zip_file.extractall()\n",
        "\n",
        "data = pd.read_csv('SMSSpamCollection', sep='\\t', names=[\"label\", \"message\"])\n",
        "\n",
        "nltk.download('stopwords')\n",
        "\n",
        "data['label'] = data['label'].map({'ham': 0, 'spam': 1})\n",
        "\n",
        "def preprocess_text(text):\n",
        "    text = text.lower()\n",
        "    text = ''.join([char for char in text if char not in string.punctuation])\n",
        "    text = [word for word in text.split() if word not in stopwords.words('english')]\n",
        "    return ' '.join(text)\n",
        "\n",
        "data['message'] = data['message'].apply(preprocess_text)\n",
        "\n",
        "tfidf_vectorizer = TfidfVectorizer()\n",
        "X = tfidf_vectorizer.fit_transform(data['message'])\n",
        "y = data['label']\n",
        "\n",
        "X_train, X_test, y_train, y_test = train_test_split(X, y, test_size=0.2, random_state=42)\n",
        "\n",
        "model = MultinomialNB()\n",
        "model.fit(X_train, y_train)\n",
        "\n",
        "y_pred = model.predict(X_test)\n",
        "\n",
        "accuracy = accuracy_score(y_test, y_pred)\n",
        "precision = precision_score(y_test, y_pred)\n",
        "recall = recall_score(y_test, y_pred)\n",
        "f1 = f1_score(y_test, y_pred)\n",
        "\n",
        "print(f'Accuracy: {accuracy}')\n",
        "print(f'Precision: {precision}')\n",
        "print(f'Recall: {recall}')\n",
        "print(f'F1 Score: {f1}')\n",
        "\n",
        "def predict_message(message):\n",
        "    message = preprocess_text(message)\n",
        "    message_tfidf = tfidf_vectorizer.transform([message])\n",
        "    prediction = model.predict(message_tfidf)\n",
        "    return message, 'spam' if prediction[0] == 1 else 'ham'\n",
        "\n",
        "spam_messages = [\n",
        "    \"Congratulations! You've won a $1,000 Walmart gift card. Go to http://bit.ly/123456 to claim now.\",\n",
        "    \"URGENT! You have been selected to receive a prize. Reply 'CLAIM' to this message to claim your reward.\",\n",
        "\n",
        "]\n",
        "\n",
        "ham_messages = [\n",
        "    \"Hi, how are you? Let's meet up for lunch tomorrow.\",\n",
        "    \"Hey, I've attached the document you requested. Please review it when you get a chance.\",\n",
        "    \"Reminder: Our meeting is scheduled for 2:00 PM today. See you there!\"\n",
        "]\n",
        "\n",
        "print(\"Predictions for Spam Messages:\")\n",
        "for spam_message in spam_messages:\n",
        "    message, label = predict_message(spam_message)\n",
        "    print(f'Message: {message} - Label: {label}')\n",
        "\n",
        "print(\"\\nPredictions for Ham Messages:\")\n",
        "for ham_message in ham_messages:\n",
        "    message, label = predict_message(ham_message)\n",
        "    print(f'Message: {message} - Label: {label}')\n"
      ]
    }
  ]
}